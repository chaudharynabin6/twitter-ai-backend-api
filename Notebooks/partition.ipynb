{
 "cells": [
  {
   "cell_type": "code",
   "execution_count": 13,
   "metadata": {},
   "outputs": [
    {
     "name": "stdout",
     "output_type": "stream",
     "text": [
      "[0, 11, 22, 33, 44, 54, 65, 76, 87, 98, 109]\n",
      "[[0, 1, 2, 3, 4, 5, 6, 7, 8, 9, 10], [11, 12, 13, 14, 15, 16, 17, 18, 19, 20, 21], [22, 23, 24, 25, 26, 27, 28, 29, 30, 31, 32], [33, 34, 35, 36, 37, 38, 39, 40, 41, 42, 43], [44, 45, 46, 47, 48, 49, 50, 51, 52, 53], [54, 55, 56, 57, 58, 59, 60, 61, 62, 63, 64], [65, 66, 67, 68, 69, 70, 71, 72, 73, 74, 75], [76, 77, 78, 79, 80, 81, 82, 83, 84, 85, 86], [87, 88, 89, 90, 91, 92, 93, 94, 95, 96, 97], [98, 99, 100, 101, 102, 103, 104, 105, 106, 107, 108]]\n"
     ]
    }
   ],
   "source": [
    "n = 109\n",
    "item = [i for i in range(n+1)]\n",
    "partition = [0,]\n",
    "for i in range(1,11):\n",
    "    position = round(n/10*i)\n",
    "    # print(f\"{i}---{round(n/10*i)}\")\n",
    "    partition.append(int(position))\n",
    "\n",
    "\n",
    "print(partition)\n",
    "len(partition)\n",
    "partitioned_items = []\n",
    "for i in range(10):\n",
    "    single_partition = item[partition[i]:partition[i+1]+1]\n",
    "    partitioned_items.append(single_partition)\n",
    "\n",
    "\n",
    "print(partitioned_items)"
   ]
  },
  {
   "cell_type": "code",
   "execution_count": null,
   "metadata": {},
   "outputs": [],
   "source": []
  }
 ],
 "metadata": {
  "interpreter": {
   "hash": "32586c31cca60fdb8e29377936d8b1f99f161ea11fb92d5eedb65b3999d8bb50"
  },
  "kernelspec": {
   "display_name": "Python 3.8.10 ('venv': venv)",
   "language": "python",
   "name": "python3"
  },
  "language_info": {
   "codemirror_mode": {
    "name": "ipython",
    "version": 3
   },
   "file_extension": ".py",
   "mimetype": "text/x-python",
   "name": "python",
   "nbconvert_exporter": "python",
   "pygments_lexer": "ipython3",
   "version": "3.8.10"
  },
  "orig_nbformat": 4
 },
 "nbformat": 4,
 "nbformat_minor": 2
}
